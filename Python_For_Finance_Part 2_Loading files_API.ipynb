{
 "cells": [
  {
   "cell_type": "code",
   "execution_count": 1,
   "metadata": {},
   "outputs": [],
   "source": [
    "import numpy as np\n",
    "import pandas as pd"
   ]
  },
  {
   "cell_type": "code",
   "execution_count": 2,
   "metadata": {},
   "outputs": [
    {
     "data": {
      "text/plain": [
       "0    0.239382\n",
       "1    0.956541\n",
       "2    0.197480\n",
       "3    0.199513\n",
       "4    0.576861\n",
       "Name: Column_01, dtype: float64"
      ]
     },
     "execution_count": 2,
     "metadata": {},
     "output_type": "execute_result"
    }
   ],
   "source": [
    "# pandas series - it is a pandas data type\n",
    "\n",
    "ser = pd.Series(np.random.random(5),name=\"Column_01\")\n",
    "ser"
   ]
  },
  {
   "cell_type": "code",
   "execution_count": 3,
   "metadata": {},
   "outputs": [
    {
     "data": {
      "text/plain": [
       "0.19747999920086046"
      ]
     },
     "execution_count": 3,
     "metadata": {},
     "output_type": "execute_result"
    }
   ],
   "source": [
    "ser[2]"
   ]
  },
  {
   "cell_type": "code",
   "execution_count": 4,
   "metadata": {},
   "outputs": [],
   "source": [
    "from pandas_datareader import data as wb\n",
    "# wb means web\n"
   ]
  },
  {
   "cell_type": "markdown",
   "metadata": {},
   "source": [
    "## 1. Using Yahoo source"
   ]
  },
  {
   "cell_type": "code",
   "execution_count": 5,
   "metadata": {},
   "outputs": [],
   "source": [
    "PG=wb.DataReader('PG', data_source='yahoo', start='1995-1-1')\n",
    "\n",
    "# there are 3 important parameters for DataReader\n",
    "\n",
    "# Procter & Gamble: PG\n",
    "# Apple: APPL\n",
    "# Microsoft: MSFT"
   ]
  },
  {
   "cell_type": "code",
   "execution_count": 6,
   "metadata": {
    "scrolled": false
   },
   "outputs": [
    {
     "data": {
      "text/html": [
       "<div>\n",
       "<style scoped>\n",
       "    .dataframe tbody tr th:only-of-type {\n",
       "        vertical-align: middle;\n",
       "    }\n",
       "\n",
       "    .dataframe tbody tr th {\n",
       "        vertical-align: top;\n",
       "    }\n",
       "\n",
       "    .dataframe thead th {\n",
       "        text-align: right;\n",
       "    }\n",
       "</style>\n",
       "<table border=\"1\" class=\"dataframe\">\n",
       "  <thead>\n",
       "    <tr style=\"text-align: right;\">\n",
       "      <th></th>\n",
       "      <th>High</th>\n",
       "      <th>Low</th>\n",
       "      <th>Open</th>\n",
       "      <th>Close</th>\n",
       "      <th>Volume</th>\n",
       "      <th>Adj Close</th>\n",
       "    </tr>\n",
       "    <tr>\n",
       "      <th>Date</th>\n",
       "      <th></th>\n",
       "      <th></th>\n",
       "      <th></th>\n",
       "      <th></th>\n",
       "      <th></th>\n",
       "      <th></th>\n",
       "    </tr>\n",
       "  </thead>\n",
       "  <tbody>\n",
       "    <tr>\n",
       "      <th>1995-01-03</th>\n",
       "      <td>15.625000</td>\n",
       "      <td>15.437500</td>\n",
       "      <td>15.468750</td>\n",
       "      <td>15.593750</td>\n",
       "      <td>3318400.0</td>\n",
       "      <td>6.280613</td>\n",
       "    </tr>\n",
       "    <tr>\n",
       "      <th>1995-01-04</th>\n",
       "      <td>15.656250</td>\n",
       "      <td>15.312500</td>\n",
       "      <td>15.531250</td>\n",
       "      <td>15.468750</td>\n",
       "      <td>2218800.0</td>\n",
       "      <td>6.230266</td>\n",
       "    </tr>\n",
       "    <tr>\n",
       "      <th>1995-01-05</th>\n",
       "      <td>15.437500</td>\n",
       "      <td>15.218750</td>\n",
       "      <td>15.375000</td>\n",
       "      <td>15.250000</td>\n",
       "      <td>2319600.0</td>\n",
       "      <td>6.142162</td>\n",
       "    </tr>\n",
       "    <tr>\n",
       "      <th>1995-01-06</th>\n",
       "      <td>15.406250</td>\n",
       "      <td>15.156250</td>\n",
       "      <td>15.156250</td>\n",
       "      <td>15.281250</td>\n",
       "      <td>3438000.0</td>\n",
       "      <td>6.154748</td>\n",
       "    </tr>\n",
       "    <tr>\n",
       "      <th>1995-01-09</th>\n",
       "      <td>15.406250</td>\n",
       "      <td>15.187500</td>\n",
       "      <td>15.343750</td>\n",
       "      <td>15.218750</td>\n",
       "      <td>1795200.0</td>\n",
       "      <td>6.129573</td>\n",
       "    </tr>\n",
       "    <tr>\n",
       "      <th>...</th>\n",
       "      <td>...</td>\n",
       "      <td>...</td>\n",
       "      <td>...</td>\n",
       "      <td>...</td>\n",
       "      <td>...</td>\n",
       "      <td>...</td>\n",
       "    </tr>\n",
       "    <tr>\n",
       "      <th>2020-08-12</th>\n",
       "      <td>135.970001</td>\n",
       "      <td>133.699997</td>\n",
       "      <td>133.770004</td>\n",
       "      <td>135.460007</td>\n",
       "      <td>5920400.0</td>\n",
       "      <td>135.460007</td>\n",
       "    </tr>\n",
       "    <tr>\n",
       "      <th>2020-08-13</th>\n",
       "      <td>135.869995</td>\n",
       "      <td>134.929993</td>\n",
       "      <td>135.080002</td>\n",
       "      <td>135.779999</td>\n",
       "      <td>4989500.0</td>\n",
       "      <td>135.779999</td>\n",
       "    </tr>\n",
       "    <tr>\n",
       "      <th>2020-08-14</th>\n",
       "      <td>135.639999</td>\n",
       "      <td>134.550003</td>\n",
       "      <td>135.610001</td>\n",
       "      <td>135.100006</td>\n",
       "      <td>5845200.0</td>\n",
       "      <td>135.100006</td>\n",
       "    </tr>\n",
       "    <tr>\n",
       "      <th>2020-08-17</th>\n",
       "      <td>135.699997</td>\n",
       "      <td>134.660004</td>\n",
       "      <td>134.940002</td>\n",
       "      <td>135.500000</td>\n",
       "      <td>5603800.0</td>\n",
       "      <td>135.500000</td>\n",
       "    </tr>\n",
       "    <tr>\n",
       "      <th>2020-08-18</th>\n",
       "      <td>137.509995</td>\n",
       "      <td>135.419998</td>\n",
       "      <td>135.809998</td>\n",
       "      <td>137.429993</td>\n",
       "      <td>3430850.0</td>\n",
       "      <td>137.429993</td>\n",
       "    </tr>\n",
       "  </tbody>\n",
       "</table>\n",
       "<p>6453 rows × 6 columns</p>\n",
       "</div>"
      ],
      "text/plain": [
       "                  High         Low        Open       Close     Volume  \\\n",
       "Date                                                                    \n",
       "1995-01-03   15.625000   15.437500   15.468750   15.593750  3318400.0   \n",
       "1995-01-04   15.656250   15.312500   15.531250   15.468750  2218800.0   \n",
       "1995-01-05   15.437500   15.218750   15.375000   15.250000  2319600.0   \n",
       "1995-01-06   15.406250   15.156250   15.156250   15.281250  3438000.0   \n",
       "1995-01-09   15.406250   15.187500   15.343750   15.218750  1795200.0   \n",
       "...                ...         ...         ...         ...        ...   \n",
       "2020-08-12  135.970001  133.699997  133.770004  135.460007  5920400.0   \n",
       "2020-08-13  135.869995  134.929993  135.080002  135.779999  4989500.0   \n",
       "2020-08-14  135.639999  134.550003  135.610001  135.100006  5845200.0   \n",
       "2020-08-17  135.699997  134.660004  134.940002  135.500000  5603800.0   \n",
       "2020-08-18  137.509995  135.419998  135.809998  137.429993  3430850.0   \n",
       "\n",
       "             Adj Close  \n",
       "Date                    \n",
       "1995-01-03    6.280613  \n",
       "1995-01-04    6.230266  \n",
       "1995-01-05    6.142162  \n",
       "1995-01-06    6.154748  \n",
       "1995-01-09    6.129573  \n",
       "...                ...  \n",
       "2020-08-12  135.460007  \n",
       "2020-08-13  135.779999  \n",
       "2020-08-14  135.100006  \n",
       "2020-08-17  135.500000  \n",
       "2020-08-18  137.429993  \n",
       "\n",
       "[6453 rows x 6 columns]"
      ]
     },
     "execution_count": 6,
     "metadata": {},
     "output_type": "execute_result"
    }
   ],
   "source": [
    "PG\n",
    "# we can see below is a time series data. first 2 rows have features infromations. hence are not considered.\n",
    "\n",
    "# As stock market is closed on Weekends and holidays, those days there wont be any data"
   ]
  },
  {
   "cell_type": "code",
   "execution_count": 7,
   "metadata": {},
   "outputs": [
    {
     "name": "stdout",
     "output_type": "stream",
     "text": [
      "<class 'pandas.core.frame.DataFrame'>\n",
      "DatetimeIndex: 6453 entries, 1995-01-03 to 2020-08-18\n",
      "Data columns (total 6 columns):\n",
      " #   Column     Non-Null Count  Dtype  \n",
      "---  ------     --------------  -----  \n",
      " 0   High       6453 non-null   float64\n",
      " 1   Low        6453 non-null   float64\n",
      " 2   Open       6453 non-null   float64\n",
      " 3   Close      6453 non-null   float64\n",
      " 4   Volume     6453 non-null   float64\n",
      " 5   Adj Close  6453 non-null   float64\n",
      "dtypes: float64(6)\n",
      "memory usage: 352.9 KB\n"
     ]
    }
   ],
   "source": [
    "PG.info()\n",
    "# we can see there is no missing data."
   ]
  },
  {
   "cell_type": "code",
   "execution_count": 8,
   "metadata": {},
   "outputs": [
    {
     "data": {
      "text/html": [
       "<div>\n",
       "<style scoped>\n",
       "    .dataframe tbody tr th:only-of-type {\n",
       "        vertical-align: middle;\n",
       "    }\n",
       "\n",
       "    .dataframe tbody tr th {\n",
       "        vertical-align: top;\n",
       "    }\n",
       "\n",
       "    .dataframe thead th {\n",
       "        text-align: right;\n",
       "    }\n",
       "</style>\n",
       "<table border=\"1\" class=\"dataframe\">\n",
       "  <thead>\n",
       "    <tr style=\"text-align: right;\">\n",
       "      <th></th>\n",
       "      <th>High</th>\n",
       "      <th>Low</th>\n",
       "      <th>Open</th>\n",
       "      <th>Close</th>\n",
       "      <th>Volume</th>\n",
       "      <th>Adj Close</th>\n",
       "    </tr>\n",
       "    <tr>\n",
       "      <th>Date</th>\n",
       "      <th></th>\n",
       "      <th></th>\n",
       "      <th></th>\n",
       "      <th></th>\n",
       "      <th></th>\n",
       "      <th></th>\n",
       "    </tr>\n",
       "  </thead>\n",
       "  <tbody>\n",
       "    <tr>\n",
       "      <th>1995-01-03</th>\n",
       "      <td>15.62500</td>\n",
       "      <td>15.43750</td>\n",
       "      <td>15.46875</td>\n",
       "      <td>15.59375</td>\n",
       "      <td>3318400.0</td>\n",
       "      <td>6.280613</td>\n",
       "    </tr>\n",
       "    <tr>\n",
       "      <th>1995-01-04</th>\n",
       "      <td>15.65625</td>\n",
       "      <td>15.31250</td>\n",
       "      <td>15.53125</td>\n",
       "      <td>15.46875</td>\n",
       "      <td>2218800.0</td>\n",
       "      <td>6.230266</td>\n",
       "    </tr>\n",
       "    <tr>\n",
       "      <th>1995-01-05</th>\n",
       "      <td>15.43750</td>\n",
       "      <td>15.21875</td>\n",
       "      <td>15.37500</td>\n",
       "      <td>15.25000</td>\n",
       "      <td>2319600.0</td>\n",
       "      <td>6.142162</td>\n",
       "    </tr>\n",
       "    <tr>\n",
       "      <th>1995-01-06</th>\n",
       "      <td>15.40625</td>\n",
       "      <td>15.15625</td>\n",
       "      <td>15.15625</td>\n",
       "      <td>15.28125</td>\n",
       "      <td>3438000.0</td>\n",
       "      <td>6.154748</td>\n",
       "    </tr>\n",
       "    <tr>\n",
       "      <th>1995-01-09</th>\n",
       "      <td>15.40625</td>\n",
       "      <td>15.18750</td>\n",
       "      <td>15.34375</td>\n",
       "      <td>15.21875</td>\n",
       "      <td>1795200.0</td>\n",
       "      <td>6.129573</td>\n",
       "    </tr>\n",
       "  </tbody>\n",
       "</table>\n",
       "</div>"
      ],
      "text/plain": [
       "                High       Low      Open     Close     Volume  Adj Close\n",
       "Date                                                                    \n",
       "1995-01-03  15.62500  15.43750  15.46875  15.59375  3318400.0   6.280613\n",
       "1995-01-04  15.65625  15.31250  15.53125  15.46875  2218800.0   6.230266\n",
       "1995-01-05  15.43750  15.21875  15.37500  15.25000  2319600.0   6.142162\n",
       "1995-01-06  15.40625  15.15625  15.15625  15.28125  3438000.0   6.154748\n",
       "1995-01-09  15.40625  15.18750  15.34375  15.21875  1795200.0   6.129573"
      ]
     },
     "execution_count": 8,
     "metadata": {},
     "output_type": "execute_result"
    }
   ],
   "source": [
    "# head and tail can be used to find the first and last rows of your data\n",
    "\n",
    "# if you want specific no. of rows you can specify\n",
    "\n",
    "PG.head()"
   ]
  },
  {
   "cell_type": "code",
   "execution_count": 9,
   "metadata": {},
   "outputs": [
    {
     "data": {
      "text/html": [
       "<div>\n",
       "<style scoped>\n",
       "    .dataframe tbody tr th:only-of-type {\n",
       "        vertical-align: middle;\n",
       "    }\n",
       "\n",
       "    .dataframe tbody tr th {\n",
       "        vertical-align: top;\n",
       "    }\n",
       "\n",
       "    .dataframe thead th {\n",
       "        text-align: right;\n",
       "    }\n",
       "</style>\n",
       "<table border=\"1\" class=\"dataframe\">\n",
       "  <thead>\n",
       "    <tr style=\"text-align: right;\">\n",
       "      <th></th>\n",
       "      <th>High</th>\n",
       "      <th>Low</th>\n",
       "      <th>Open</th>\n",
       "      <th>Close</th>\n",
       "      <th>Volume</th>\n",
       "      <th>Adj Close</th>\n",
       "    </tr>\n",
       "    <tr>\n",
       "      <th>Date</th>\n",
       "      <th></th>\n",
       "      <th></th>\n",
       "      <th></th>\n",
       "      <th></th>\n",
       "      <th></th>\n",
       "      <th></th>\n",
       "    </tr>\n",
       "  </thead>\n",
       "  <tbody>\n",
       "    <tr>\n",
       "      <th>2020-08-05</th>\n",
       "      <td>134.649994</td>\n",
       "      <td>133.119995</td>\n",
       "      <td>133.589996</td>\n",
       "      <td>133.440002</td>\n",
       "      <td>5680000.0</td>\n",
       "      <td>133.440002</td>\n",
       "    </tr>\n",
       "    <tr>\n",
       "      <th>2020-08-06</th>\n",
       "      <td>133.369995</td>\n",
       "      <td>132.119995</td>\n",
       "      <td>132.850006</td>\n",
       "      <td>132.710007</td>\n",
       "      <td>3974100.0</td>\n",
       "      <td>132.710007</td>\n",
       "    </tr>\n",
       "    <tr>\n",
       "      <th>2020-08-07</th>\n",
       "      <td>133.639999</td>\n",
       "      <td>132.449997</td>\n",
       "      <td>132.889999</td>\n",
       "      <td>133.550003</td>\n",
       "      <td>4934100.0</td>\n",
       "      <td>133.550003</td>\n",
       "    </tr>\n",
       "    <tr>\n",
       "      <th>2020-08-10</th>\n",
       "      <td>134.440002</td>\n",
       "      <td>133.190002</td>\n",
       "      <td>133.699997</td>\n",
       "      <td>134.100006</td>\n",
       "      <td>5812700.0</td>\n",
       "      <td>134.100006</td>\n",
       "    </tr>\n",
       "    <tr>\n",
       "      <th>2020-08-11</th>\n",
       "      <td>134.740005</td>\n",
       "      <td>132.789993</td>\n",
       "      <td>134.270004</td>\n",
       "      <td>133.229996</td>\n",
       "      <td>5329900.0</td>\n",
       "      <td>133.229996</td>\n",
       "    </tr>\n",
       "    <tr>\n",
       "      <th>2020-08-12</th>\n",
       "      <td>135.970001</td>\n",
       "      <td>133.699997</td>\n",
       "      <td>133.770004</td>\n",
       "      <td>135.460007</td>\n",
       "      <td>5920400.0</td>\n",
       "      <td>135.460007</td>\n",
       "    </tr>\n",
       "    <tr>\n",
       "      <th>2020-08-13</th>\n",
       "      <td>135.869995</td>\n",
       "      <td>134.929993</td>\n",
       "      <td>135.080002</td>\n",
       "      <td>135.779999</td>\n",
       "      <td>4989500.0</td>\n",
       "      <td>135.779999</td>\n",
       "    </tr>\n",
       "    <tr>\n",
       "      <th>2020-08-14</th>\n",
       "      <td>135.639999</td>\n",
       "      <td>134.550003</td>\n",
       "      <td>135.610001</td>\n",
       "      <td>135.100006</td>\n",
       "      <td>5845200.0</td>\n",
       "      <td>135.100006</td>\n",
       "    </tr>\n",
       "    <tr>\n",
       "      <th>2020-08-17</th>\n",
       "      <td>135.699997</td>\n",
       "      <td>134.660004</td>\n",
       "      <td>134.940002</td>\n",
       "      <td>135.500000</td>\n",
       "      <td>5603800.0</td>\n",
       "      <td>135.500000</td>\n",
       "    </tr>\n",
       "    <tr>\n",
       "      <th>2020-08-18</th>\n",
       "      <td>137.509995</td>\n",
       "      <td>135.419998</td>\n",
       "      <td>135.809998</td>\n",
       "      <td>137.429993</td>\n",
       "      <td>3430850.0</td>\n",
       "      <td>137.429993</td>\n",
       "    </tr>\n",
       "  </tbody>\n",
       "</table>\n",
       "</div>"
      ],
      "text/plain": [
       "                  High         Low        Open       Close     Volume  \\\n",
       "Date                                                                    \n",
       "2020-08-05  134.649994  133.119995  133.589996  133.440002  5680000.0   \n",
       "2020-08-06  133.369995  132.119995  132.850006  132.710007  3974100.0   \n",
       "2020-08-07  133.639999  132.449997  132.889999  133.550003  4934100.0   \n",
       "2020-08-10  134.440002  133.190002  133.699997  134.100006  5812700.0   \n",
       "2020-08-11  134.740005  132.789993  134.270004  133.229996  5329900.0   \n",
       "2020-08-12  135.970001  133.699997  133.770004  135.460007  5920400.0   \n",
       "2020-08-13  135.869995  134.929993  135.080002  135.779999  4989500.0   \n",
       "2020-08-14  135.639999  134.550003  135.610001  135.100006  5845200.0   \n",
       "2020-08-17  135.699997  134.660004  134.940002  135.500000  5603800.0   \n",
       "2020-08-18  137.509995  135.419998  135.809998  137.429993  3430850.0   \n",
       "\n",
       "             Adj Close  \n",
       "Date                    \n",
       "2020-08-05  133.440002  \n",
       "2020-08-06  132.710007  \n",
       "2020-08-07  133.550003  \n",
       "2020-08-10  134.100006  \n",
       "2020-08-11  133.229996  \n",
       "2020-08-12  135.460007  \n",
       "2020-08-13  135.779999  \n",
       "2020-08-14  135.100006  \n",
       "2020-08-17  135.500000  \n",
       "2020-08-18  137.429993  "
      ]
     },
     "execution_count": 9,
     "metadata": {},
     "output_type": "execute_result"
    }
   ],
   "source": [
    "PG.tail(10)"
   ]
  },
  {
   "cell_type": "code",
   "execution_count": 10,
   "metadata": {},
   "outputs": [],
   "source": [
    "# for exammple we did only for P&G, lets do for P&G, Microsoft, AT&T, Ford, General Electric\n",
    "# But we need only the last column of the table"
   ]
  },
  {
   "cell_type": "code",
   "execution_count": 11,
   "metadata": {},
   "outputs": [
    {
     "ename": "NameError",
     "evalue": "name 'new_data' is not defined",
     "output_type": "error",
     "traceback": [
      "\u001b[1;31m---------------------------------------------------------------------------\u001b[0m",
      "\u001b[1;31mNameError\u001b[0m                                 Traceback (most recent call last)",
      "\u001b[1;32m<ipython-input-11-65240ac7213b>\u001b[0m in \u001b[0;36m<module>\u001b[1;34m\u001b[0m\n\u001b[0;32m      2\u001b[0m \u001b[0mnew_data_yahoo\u001b[0m \u001b[1;33m=\u001b[0m \u001b[0mpd\u001b[0m\u001b[1;33m.\u001b[0m\u001b[0mDataFrame\u001b[0m\u001b[1;33m(\u001b[0m\u001b[1;33m)\u001b[0m\u001b[1;33m\u001b[0m\u001b[1;33m\u001b[0m\u001b[0m\n\u001b[0;32m      3\u001b[0m \u001b[1;32mfor\u001b[0m \u001b[0mt\u001b[0m \u001b[1;32min\u001b[0m \u001b[0mtickers\u001b[0m\u001b[1;33m:\u001b[0m\u001b[1;33m\u001b[0m\u001b[1;33m\u001b[0m\u001b[0m\n\u001b[1;32m----> 4\u001b[1;33m     \u001b[0mnew_data\u001b[0m\u001b[1;33m[\u001b[0m\u001b[0mt\u001b[0m\u001b[1;33m]\u001b[0m\u001b[1;33m=\u001b[0m\u001b[0mwb\u001b[0m\u001b[1;33m.\u001b[0m\u001b[0mDataReader\u001b[0m\u001b[1;33m(\u001b[0m\u001b[0mt\u001b[0m\u001b[1;33m,\u001b[0m \u001b[0mdata_source\u001b[0m\u001b[1;33m=\u001b[0m\u001b[1;34m'yahoo'\u001b[0m\u001b[1;33m,\u001b[0m \u001b[0mstart\u001b[0m\u001b[1;33m=\u001b[0m\u001b[1;34m'1995-1-1'\u001b[0m\u001b[1;33m)\u001b[0m\u001b[1;33m[\u001b[0m\u001b[1;34m'Adj Close'\u001b[0m\u001b[1;33m]\u001b[0m\u001b[1;33m\u001b[0m\u001b[1;33m\u001b[0m\u001b[0m\n\u001b[0m",
      "\u001b[1;31mNameError\u001b[0m: name 'new_data' is not defined"
     ]
    }
   ],
   "source": [
    "tickers = ['PG','MSFT','T','F','GE']\n",
    "new_data_yahoo = pd.DataFrame()\n",
    "for t in tickers:\n",
    "    new_data[t]=wb.DataReader(t, data_source='yahoo', start='1995-1-1')['Adj Close']"
   ]
  },
  {
   "cell_type": "code",
   "execution_count": null,
   "metadata": {},
   "outputs": [],
   "source": [
    "new_data_yahoo.head(10)"
   ]
  },
  {
   "cell_type": "markdown",
   "metadata": {},
   "source": [
    "## 2. Using IEX as data source\n",
    "\n",
    "NOTE: IEX does not does not provide older than 5 years of data"
   ]
  },
  {
   "cell_type": "code",
   "execution_count": null,
   "metadata": {},
   "outputs": [],
   "source": [
    "tickers = ['PG','MSFT','T','F','GE']\n",
    "new_data_iex = pd.DataFrame()\n",
    "for t in tickers:\n",
    "    new_data[t]=wb.DataReader(t, data_source='iex', start='2017-1-1')['close']"
   ]
  },
  {
   "cell_type": "markdown",
   "metadata": {},
   "source": [
    "## Importing and organizing your data"
   ]
  },
  {
   "cell_type": "code",
   "execution_count": null,
   "metadata": {},
   "outputs": [],
   "source": [
    "import quandl"
   ]
  },
  {
   "cell_type": "code",
   "execution_count": null,
   "metadata": {},
   "outputs": [],
   "source": [
    "mydata_01 = quandl.get(\"FRED/GDP\")"
   ]
  },
  {
   "cell_type": "code",
   "execution_count": null,
   "metadata": {},
   "outputs": [],
   "source": [
    "mydata_01.tail()"
   ]
  },
  {
   "cell_type": "code",
   "execution_count": null,
   "metadata": {},
   "outputs": [],
   "source": [
    "mydata_01.head()\n",
    "\n",
    "# you can see it has data from 1947"
   ]
  },
  {
   "cell_type": "code",
   "execution_count": null,
   "metadata": {},
   "outputs": [],
   "source": [
    "# how you will store you data in csv format using pandas\n",
    "\n",
    "import pandas as pd"
   ]
  },
  {
   "cell_type": "code",
   "execution_count": null,
   "metadata": {},
   "outputs": [],
   "source": [
    "mydata_01.to_csv('C:/Users/lenovo/Downloads/Python & Finance_BD/Data/example_01.csv')"
   ]
  },
  {
   "cell_type": "code",
   "execution_count": null,
   "metadata": {},
   "outputs": [],
   "source": [
    "my_data_02 = pd.read_csv('C:/Users/lenovo/Downloads/Python for Finance/57 Importing Data - Part III/CSV/Python 3 CSV/Data_02.csv')"
   ]
  },
  {
   "cell_type": "code",
   "execution_count": null,
   "metadata": {},
   "outputs": [],
   "source": [
    "my_data_02"
   ]
  },
  {
   "cell_type": "markdown",
   "metadata": {},
   "source": [
    "**NOTE: Similary we can do for excel files. to_excel() and read_excel() menthod in pandas**"
   ]
  },
  {
   "cell_type": "markdown",
   "metadata": {},
   "source": [
    "## Time Series Data\n",
    "\n",
    "You will come accross a various time series data in financial analysis\n",
    "\n",
    "we can see in above data, first is a data column. Python automactically assign a unique no. to the rows in the dataset.\n",
    "\n",
    "NOTE: but we can change the index of the dataset as we need. Ex. lets set the data column as the index."
   ]
  },
  {
   "cell_type": "code",
   "execution_count": null,
   "metadata": {},
   "outputs": [],
   "source": [
    "my_data_03 = pd.read_csv('C:/Users/lenovo/Downloads/Python for Finance/57 Importing Data - Part III/CSV/Python 3 CSV/Data_02.csv', \n",
    "                         index_col='Date')\n",
    "my_data_03"
   ]
  },
  {
   "cell_type": "code",
   "execution_count": null,
   "metadata": {
    "scrolled": true
   },
   "outputs": [],
   "source": [
    "my_data_04 = pd.read_excel('C:/Users/lenovo/Downloads/Python for Finance/57 Importing Data - Part III/CSV/Python 3 CSV/Data_03.xlsx')\n",
    "my_data_04.head(10)"
   ]
  },
  {
   "cell_type": "code",
   "execution_count": null,
   "metadata": {
    "scrolled": true
   },
   "outputs": [],
   "source": [
    "# here we see how to reset index again in different style\n",
    "\n",
    "my_data_04.set_index('Year').head()"
   ]
  },
  {
   "cell_type": "code",
   "execution_count": null,
   "metadata": {
    "scrolled": true
   },
   "outputs": [],
   "source": [
    "# note: but above we are only see the data with year index. if we fetch it will have auto numbered index.\n",
    "# So to assign it permanently we need to assing in a data frame\n",
    "\n",
    "my_data_04 = my_data_04.set_index('Year')\n",
    "\n",
    "# already assigned, again if you execute, you will get error message."
   ]
  },
  {
   "cell_type": "code",
   "execution_count": null,
   "metadata": {
    "scrolled": true
   },
   "outputs": [],
   "source": [
    "my_data_04.head()"
   ]
  },
  {
   "cell_type": "markdown",
   "metadata": {},
   "source": [
    "## Restaring Kernel\n",
    "\n",
    "once you restart, and open a new notebook, you will have all the previous outputs. SO go to Kernel on top and select \n",
    "\n",
    "**Restart and Clear Output**\n",
    "\n",
    "You can use **Restart and Run all** if all your codes are in sequence and no error in your script. "
   ]
  },
  {
   "cell_type": "code",
   "execution_count": null,
   "metadata": {},
   "outputs": [],
   "source": []
  }
 ],
 "metadata": {
  "kernelspec": {
   "display_name": "Python 3",
   "language": "python",
   "name": "python3"
  },
  "language_info": {
   "codemirror_mode": {
    "name": "ipython",
    "version": 3
   },
   "file_extension": ".py",
   "mimetype": "text/x-python",
   "name": "python",
   "nbconvert_exporter": "python",
   "pygments_lexer": "ipython3",
   "version": "3.8.3"
  }
 },
 "nbformat": 4,
 "nbformat_minor": 4
}
